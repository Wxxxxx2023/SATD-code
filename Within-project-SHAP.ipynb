{
 "cells": [
  {
   "cell_type": "markdown",
   "source": [
    "# Data preprocessing and identification"
   ],
   "metadata": {
    "collapsed": false
   }
  },
  {
   "cell_type": "code",
   "execution_count": null,
   "outputs": [],
   "source": [
    "import os\n",
    "\n",
    "from lightgbm import LGBMClassifier\n",
    "from sklearn.linear_model import LogisticRegression\n",
    "from sklearn.model_selection import train_test_split, GridSearchCV\n",
    "from sklearn import metrics\n",
    "import math\n",
    "from pandas import DataFrame\n",
    "from sklearn.feature_extraction.text import CountVectorizer, TfidfVectorizer\n",
    "from imblearn.over_sampling import SMOTE\n",
    "from sklearn.naive_bayes import GaussianNB\n",
    "from sklearn.tree import DecisionTreeClassifier\n",
    "import pandas as pd\n",
    "text_neg = []\n",
    "text_pos = []\n",
    "\n",
    "\n",
    "\n",
    "def loaddata(path):\n",
    "    numwords = []\n",
    "    file = open(path, encoding=\"utf-8\")\n",
    "    texts_projects = []\n",
    "    label_projects = []\n",
    "    for line in file.readlines():\n",
    "        line = line.strip(\"\\n\")\n",
    "        a = line[13:].lower()\n",
    "        if a == '':\n",
    "            continue\n",
    "        if a == '   ':\n",
    "            continue\n",
    "        if a == ' ':\n",
    "            continue\n",
    "        if a == '  ':\n",
    "            continue\n",
    "        texts_projects.append(a)\n",
    "\n",
    "        counter = len(a.split(\" \"))\n",
    "        numwords.append(counter)\n",
    "        if line[4:12] == \"negative\":\n",
    "            label_projects.append(0)\n",
    "            text_neg.append(a)\n",
    "        else:\n",
    "            label_projects.append(1)\n",
    "            text_pos.append(a)\n",
    "    return texts_projects, label_projects, numwords"
   ],
   "metadata": {
    "collapsed": false,
    "pycharm": {
     "is_executing": true
    }
   }
  },
  {
   "cell_type": "markdown",
   "source": [
    "# Within-project SHAP"
   ],
   "metadata": {
    "collapsed": false
   }
  },
  {
   "cell_type": "code",
   "execution_count": 4,
   "id": "engaged-horror",
   "metadata": {},
   "outputs": [
    {
     "name": "stdout",
     "output_type": "stream",
     "text": [
      "f1: 0.880794701986755\n"
     ]
    },
    {
     "name": "stderr",
     "output_type": "stream",
     "text": [
      "LightGBM binary classifier with TreeExplainer shap values output has changed to a list of ndarray\n"
     ]
    },
    {
     "data": {
      "image/png": "[encoded data removed]",
      "text/plain": [
       "<Figure size 576x288 with 1 Axes>"
      ]
     },
     "metadata": {
      "needs_background": "light"
     },
     "output_type": "display_data"
    }
   ],
   "source": [
    "vocabulary = {\"this\": 0, \"the\": 1, \"not\": 2}\n",
    "texts, labels, numwords = loaddata(r'./data/Arg_processing.csv')\n",
    "idf = TfidfVectorizer(lowercase=False, max_features=1000,stop_words='english')\n",
    "y = pd.Series(labels)\n",
    "y = y.values.ravel()\n",
    "x_tr, x_te, y_train, y_test = train_test_split(texts, y, test_size=0.1, shuffle=True, random_state=1)\n",
    "\n",
    "# x_train = idf.fit_transform(x_tr)\n",
    "# x_test = idf.transform(x_te)\n",
    "x_train = idf.fit_transform(x_tr).toarray()\n",
    "x_test = idf.transform(x_te).toarray()\n",
    "from xgboost import XGBClassifier\n",
    "gbm0 = LGBMClassifier(max_depth=15, num_leaves= 20, n_estimators=300)\n",
    "gbm0.fit(x_train, y_train, eval_set=[(x_test, y_test)], early_stopping_rounds=10, verbose=False)\n",
    "y_predict = gbm0.predict(x_test)\n",
    "y_pred = gbm0.predict(x_test)\n",
    "y_predprob = gbm0.predict_proba(x_test)[:, 1]\n",
    "# print(\"Accuracy:%.4f\" % metrics.accuracy_score(y_test, y_pred))\n",
    "tn, fp, fn, tp = metrics.confusion_matrix(y_test, y_predict).ravel()\n",
    "rec = tp / (tp + fn)\n",
    "Recall = tp / (tp + fn)\n",
    "specificity = tn / (fp + tn)\n",
    "precision = tp / (tp + fp)\n",
    "gmeans = math.sqrt(specificity * rec)\n",
    "f1 = 2 * precision * rec / (precision + rec)\n",
    "print(\"f1:\", f1)\n",
    "import shap\n",
    "\n",
    "# Sparse matrix is supported by shap for lightgbm models.\n",
    "imdb_lgb_explainer = shap.TreeExplainer(gbm0)\n",
    "imdb_lgb_shap_values = imdb_lgb_explainer.shap_values(x_test)\n",
    "if len(imdb_lgb_shap_values) == 2:\n",
    "    imdb_lgb_shap_values = imdb_lgb_shap_values[1]\n",
    "sorted_vocab = sorted(idf.vocabulary_.items(), key=lambda kv: kv[1])\n",
    "sorted_vocab = [w for w, i in sorted_vocab]\n",
    "import matplotlib.pyplot as plt\n",
    "\n",
    "shap.summary_plot(imdb_lgb_shap_values, x_test, feature_names=sorted_vocab,\n",
    "                  plot_type=\"bar\", max_display=10, show=False, plot_size=.25)\n",
    "plt.show()"
   ]
  }
 ],
 "metadata": {
  "kernelspec": {
   "name": "python3",
   "language": "python",
   "display_name": "Python 3 (ipykernel)"
  },
  "language_info": {
   "codemirror_mode": {
    "name": "ipython",
    "version": 3
   },
   "file_extension": ".py",
   "mimetype": "text/x-python",
   "name": "python",
   "nbconvert_exporter": "python",
   "pygments_lexer": "ipython3",
   "version": "3.7.6"
  }
 },
 "nbformat": 4,
 "nbformat_minor": 5
}
