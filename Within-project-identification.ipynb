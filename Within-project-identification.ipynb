{
 "cells": [
  {
   "cell_type": "markdown",
   "source": [
    "# Within-Project experiment"
   ],
   "metadata": {
    "collapsed": false
   }
  },
  {
   "cell_type": "code",
   "execution_count": null,
   "metadata": {
    "collapsed": true
   },
   "outputs": [],
   "source": [
    "import os\n",
    "\n",
    "import matplotlib\n",
    "import sklearn\n",
    "from sklearn.linear_model import LogisticRegression, SGDClassifier\n",
    "from sklearn.model_selection import train_test_split, GridSearchCV\n",
    "from sklearn import metrics\n",
    "import pandas as pd\n",
    "from imblearn.over_sampling import SMOTE\n",
    "from sklearn.tree import DecisionTreeClassifier\n",
    "import math\n",
    "from pandas import DataFrame\n",
    "from sklearn.feature_extraction.text import CountVectorizer, TfidfVectorizer\n",
    "from sklearn.feature_selection import SelectKBest\n",
    "from sklearn.feature_selection import SelectFromModel, chi2, SelectKBest"
   ]
  },
  {
   "cell_type": "markdown",
   "source": [
    "# Data Preprocess"
   ],
   "metadata": {
    "collapsed": false
   }
  },
  {
   "cell_type": "code",
   "execution_count": null,
   "outputs": [],
   "source": [
    "text_neg = []\n",
    "text_pos = []\n",
    "\n",
    "\n",
    "def loaddata(path):\n",
    "    numwords = []\n",
    "    file = open(path, encoding=\"utf-8\")\n",
    "    texts_projects = []\n",
    "    label_projects = []\n",
    "    for line in file.readlines():\n",
    "        line = line.strip(\"\\n\")\n",
    "        a = line[13:].lower()\n",
    "        if a == '':\n",
    "            continue\n",
    "        if a == '   ':\n",
    "            continue\n",
    "        if a == ' ':\n",
    "            continue\n",
    "        if a == '  ':\n",
    "            continue\n",
    "        texts_projects.append(a)\n",
    "\n",
    "        counter = len(a.split(\" \"))\n",
    "        numwords.append(counter)\n",
    "        if line[4:12] == \"negative\":\n",
    "            label_projects.append(0)\n",
    "            text_neg.append(a)\n",
    "        else:\n",
    "            label_projects.append(1)\n",
    "            text_pos.append(a)\n",
    "    return texts_projects, label_projects, numwords"
   ],
   "metadata": {
    "collapsed": false
   }
  },
  {
   "cell_type": "markdown",
   "source": [
    "# Identification"
   ],
   "metadata": {
    "collapsed": false
   }
  },
  {
   "cell_type": "code",
   "execution_count": null,
   "outputs": [],
   "source": [
    "path = './data'\n",
    "files = os.listdir(path)\n",
    "index = 0\n",
    "f0= 0\n",
    "for file in files:\n",
    "    vocabulary = {\"this\": 0, \"the\": 1, \"not\": 2}\n",
    "    texts, labels, numwords = loaddata(r'./data' + file)\n",
    "    idf = TfidfVectorizer(lowercase=False, max_features=1000,stop_words='english')\n",
    "    y = pd.Series(labels)\n",
    "    y = y.values.ravel()\n",
    "    x_tr, x_te, y_train, y_test = train_test_split(texts, y, test_size=0.1, shuffle=True, random_state=1)\n",
    "\n",
    "    x_train = idf.fit_transform(x_tr)\n",
    "    x_test = idf.transform(x_te)\n",
    "    from lightgbm import LGBMClassifier\n",
    "    from xgboost import XGBClassifier\n",
    "    smo = SMOTE()\n",
    "    x_train, y_train = smo.fit_sample(x_train, y_train)\n",
    "    gbm0 = LGBMClassifier()\n",
    "    gbm0.fit(x_train, y_train)\n",
    "    y_predict = gbm0.predict(x_test)\n",
    "    y_pred = gbm0.predict(x_test)\n",
    "    y_predprob = gbm0.predict_proba(x_test)[:, 1]\n",
    "    # print(\"Accuracy:%.4f\" % metrics.accuracy_score(y_test, y_pred))\n",
    "    tn, fp, fn, tp = metrics.confusion_matrix(y_test, y_predict).ravel()\n",
    "    rec = tp / (tp + fn)\n",
    "    Recall = tp / (tp + fn)\n",
    "    specificity = tn / (fp + tn)\n",
    "    precision = tp / (tp + fp)\n",
    "    gmeans = math.sqrt(specificity * rec)\n",
    "    f1 = 2 * precision * rec / (precision + rec)\n",
    "    print(f1)\n",
    "    f0 += f1\n",
    "print(f0/10)"
   ],
   "metadata": {
    "collapsed": false
   }
  }
 ],
 "metadata": {
  "kernelspec": {
   "display_name": "Python 3",
   "language": "python",
   "name": "python3"
  },
  "language_info": {
   "codemirror_mode": {
    "name": "ipython",
    "version": 2
   },
   "file_extension": ".py",
   "mimetype": "text/x-python",
   "name": "python",
   "nbconvert_exporter": "python",
   "pygments_lexer": "ipython2",
   "version": "2.7.6"
  }
 },
 "nbformat": 4,
 "nbformat_minor": 0
}
